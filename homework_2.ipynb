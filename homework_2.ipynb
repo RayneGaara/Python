{
 "cells": [
  {
   "cell_type": "markdown",
   "metadata": {},
   "source": [
    "В файле <i>orders</i> представлена информация о заказах в онлайн-магазине.\n",
    "```\n",
    "OrderID - ID Заказа,\n",
    "UserID - ID клиента,\n",
    "OrderTime - время заказа,\n",
    "items - список элементов в заказе, каждый элемент описан словарем:\n",
    "    ItemID  - ID продукта, \n",
    "    price - цена единицы товара, \n",
    "    quantity - количество единиц товара в заказе\n",
    "```\n",
    "В файле <i>categories</i> представлена информация о категории товаров.\n",
    "```\n",
    "ItemID - ID продукта,\n",
    "Category - категория продукта,\n",
    "ParentCategory - более крупная категория продукта"
   ]
  },
  {
   "cell_type": "markdown",
   "metadata": {},
   "source": [
    "## Анализ логов продуктового магазина"
   ]
  },
  {
   "cell_type": "markdown",
   "metadata": {},
   "source": [
    "Представьте, что вы работаете аналитиком онлайн-магазина и ваша цель - повысить GMV (суммарную выручку от продажи товаров). Для этого вы хотите провести ряд исследований и придумать какие-то меры для увеличения выручки."
   ]
  },
  {
   "cell_type": "markdown",
   "metadata": {},
   "source": [
    "* Определите, какого числа было сделано больше всего заказов?\n",
    "* Найдите топ-3 ParentCategory по GMV (суммарная выручка, которую принесла продажа товаров этой категории)\n",
    "* Напишите функцию, которая принимает на вход OrderID и рекомендует ItemID продукта для корзины этого заказа. Проверьте работу этой функции."
   ]
  },
  {
   "cell_type": "code",
   "execution_count": 1,
   "metadata": {},
   "outputs": [],
   "source": [
    "# Импорт библиотек\n",
    "import pandas as pd\n",
    "import json"
   ]
  },
  {
   "cell_type": "code",
   "execution_count": 2,
   "metadata": {},
   "outputs": [],
   "source": [
    "categories = pd.read_csv('data/categories.csv')\n",
    "orders = pd.read_json('data/orders.json')"
   ]
  },
  {
   "cell_type": "code",
   "execution_count": 3,
   "metadata": {},
   "outputs": [
    {
     "name": "stdout",
     "output_type": "stream",
     "text": [
      "Дата с наибольшим количеством заказов: 2021-02-05 (342 заказов)\n"
     ]
    }
   ],
   "source": [
    "# Вопрос 1: Определение даты с наибольшим количеством заказов\n",
    "\n",
    "orders['OrderDate'] = pd.to_datetime(orders['OrderTime']).dt.date\n",
    "order_counts = orders['OrderDate'].value_counts()\n",
    "\n",
    "max_orders_date = order_counts.idxmax()\n",
    "max_orders_count = order_counts.max()\n",
    "\n",
    "print(f\"Дата с наибольшим количеством заказов: {max_orders_date} ({max_orders_count} заказов)\")"
   ]
  },
  {
   "cell_type": "code",
   "execution_count": 4,
   "metadata": {},
   "outputs": [],
   "source": [
    "# Вопрос 2:ТОП-3 ParentCategory по GMV\n",
    "\n",
    "# Записываю список 'items' в отдельные строки\n",
    "orders_expanded = orders.explode('items')\n"
   ]
  },
  {
   "cell_type": "code",
   "execution_count": 5,
   "metadata": {},
   "outputs": [],
   "source": [
    "# Извлекаю инфу о товарах\n",
    "orders_expanded['ItemID'] = orders_expanded['items'].apply(lambda x: x['ItemID'])\n",
    "orders_expanded['price'] = orders_expanded['items'].apply(lambda x: x['price'])\n",
    "orders_expanded['quantity'] = orders_expanded['items'].apply(lambda x: x['quantity'])"
   ]
  },
  {
   "cell_type": "code",
   "execution_count": 6,
   "metadata": {},
   "outputs": [],
   "source": [
    "# Привожу данные к одному формату\n",
    "orders_expanded['ItemID'] = orders_expanded['ItemID'].astype(str)\n",
    "categories['ItemID'] = categories['ItemID'].astype(str)"
   ]
  },
  {
   "cell_type": "code",
   "execution_count": 7,
   "metadata": {},
   "outputs": [],
   "source": [
    "# Объединяю с категориями по 'ItemID'\n",
    "merged_data = orders_expanded.merge(categories, on='ItemID', how='left')"
   ]
  },
  {
   "cell_type": "code",
   "execution_count": 8,
   "metadata": {},
   "outputs": [],
   "source": [
    "# Считаю GMV\n",
    "merged_data['GMV'] = merged_data['price'] * merged_data['quantity']\n",
    "\n",
    "# Группирую по ParentCategory и считаю GMV\n",
    "gvm_summary = merged_data.groupby('ParentCategory').agg({'GMV': 'sum'}).reset_index()"
   ]
  },
  {
   "cell_type": "code",
   "execution_count": 9,
   "metadata": {},
   "outputs": [
    {
     "name": "stdout",
     "output_type": "stream",
     "text": [
      "Топ-3 ParentCategory по GMV:\n",
      "        ParentCategory          GMV\n",
      "11   Мясо, птица, рыба  32268493.46\n",
      "9   Молочная продукция  27702995.43\n",
      "13      Овощи и фрукты  27607486.90\n"
     ]
    }
   ],
   "source": [
    "# Результат\n",
    "top_3_categories = gvm_summary.nlargest(3, 'GMV')\n",
    "\n",
    "print(\"Топ-3 ParentCategory по GMV:\")\n",
    "print(top_3_categories)"
   ]
  },
  {
   "cell_type": "code",
   "execution_count": 11,
   "metadata": {},
   "outputs": [
    {
     "name": "stdout",
     "output_type": "stream",
     "text": [
      "Рекомендованные ItemID для заказа 12345 : Заказ не найден.\n"
     ]
    }
   ],
   "source": [
    "# Вопрос 3: Напишите функцию, которая принимает на вход OrderID и рекомендует ItemID продукта для корзины этого заказа. Проверьте работу этой функции.\n",
    "\n",
    "def recommend_item(order_id):\n",
    "    order_data = orders[orders['OrderID'] == order_id]\n",
    "    \n",
    "    if order_data.empty:\n",
    "        return \"Заказ не найден.\"\n",
    "    \n",
    "    items_in_order = order_data['items'].values[0]\n",
    "    \n",
    "    # Преобразую строку JSON в список\n",
    "    items_in_order = json.loads(items_in_order)\n",
    "    \n",
    "    # Проверяю, является ли items списком\n",
    "    if isinstance(items_in_order, list):\n",
    "        item_ids = [item['ItemID'] for item in items_in_order]\n",
    "    else:\n",
    "        return \"Формат данных о товарах некорректен.\"\n",
    "    \n",
    "    return item_ids\n",
    "\n",
    "# Вызываю функцию\n",
    "order_id_to_check = 12345\n",
    "recommended_items = recommend_item(order_id_to_check)\n",
    "\n",
    "# Проверяю работу функции\n",
    "print(\"Рекомендованные ItemID для заказа\", order_id_to_check, \":\", recommended_items)"
   ]
  }
 ],
 "metadata": {
  "kernelspec": {
   "display_name": "Python 3",
   "language": "python",
   "name": "python3"
  },
  "language_info": {
   "codemirror_mode": {
    "name": "ipython",
    "version": 3
   },
   "file_extension": ".py",
   "mimetype": "text/x-python",
   "name": "python",
   "nbconvert_exporter": "python",
   "pygments_lexer": "ipython3",
   "version": "3.11.9"
  }
 },
 "nbformat": 4,
 "nbformat_minor": 2
}
