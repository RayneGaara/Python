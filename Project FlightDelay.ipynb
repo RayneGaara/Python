{
 "cells": [
  {
   "cell_type": "markdown",
   "metadata": {},
   "source": [
    "# FlightDelay. Задание для проекта"
   ]
  },
  {
   "cell_type": "markdown",
   "metadata": {},
   "source": [
    "### Данные - https://www.kaggle.com/usdot/flight-delays\n",
    "Описание - Сводная информация о количестве своевременных, задержанных, отмененных и измененных рейсов в США за 2015 год (5.8 млн записей)\n",
    "\n",
    "Задачи:\n",
    "1. Найти аэропорт с минимальной задержкой вылета \n",
    "2. Самая пунктуальная авиакомпания на прилет в Los Angeles International Airport\n",
    "3. Найти аэропорт, где самолёты проводят больше всего времени на рулении (среднее значение), вывести названия аэропорта (колонка AIRPORT)\n",
    "4. Построить модель, которая будет выбирать топ 3 аэропорта прилета (вероятность опоздания минимальная – RMSE метрика), в зависимости от аэропорта вылета  \n",
    "5. Предсказать возможные задержки в каждом аэропорту\n",
    "6. Оказавшись в случайном аэропорту найти аэропорт в который можно улететь с мин задержкой\n",
    "7. Понять с чем связаны пропуски в данных, если они есть\n",
    "8. Отразить полеты на карте через stream lit\n",
    "9. Обратить внимание на поле CANCELLED, рейс отменен, не включать в статистику\n"
   ]
  },
  {
   "cell_type": "code",
   "execution_count": 1,
   "metadata": {},
   "outputs": [],
   "source": [
    "# Библиотеки\n",
    "import pandas as pd"
   ]
  },
  {
   "cell_type": "code",
   "execution_count": 2,
   "metadata": {},
   "outputs": [
    {
     "name": "stderr",
     "output_type": "stream",
     "text": [
      "C:\\Users\\Agito\\AppData\\Local\\Temp\\ipykernel_10644\\546070065.py:2: DtypeWarning: Columns (7,8) have mixed types. Specify dtype option on import or set low_memory=False.\n",
      "  flights = pd.read_csv('C:/Users/Agito/OneDrive/Документы/Программы/Visual Studio/ML/flight dealay/flights.csv')\n"
     ]
    }
   ],
   "source": [
    "# Загрузка файла flights\n",
    "flights = pd.read_csv('C:/Users/Agito/OneDrive/Документы/Программы/Visual Studio/ML/flight dealay/flights.csv')"
   ]
  },
  {
   "cell_type": "code",
   "execution_count": 3,
   "metadata": {},
   "outputs": [
    {
     "name": "stdout",
     "output_type": "stream",
     "text": [
      "['YEAR', 'MONTH', 'DAY', 'DAY_OF_WEEK', 'AIRLINE', 'FLIGHT_NUMBER', 'TAIL_NUMBER', 'ORIGIN_AIRPORT', 'DESTINATION_AIRPORT', 'SCHEDULED_DEPARTURE', 'DEPARTURE_TIME', 'DEPARTURE_DELAY', 'TAXI_OUT', 'WHEELS_OFF', 'SCHEDULED_TIME', 'ELAPSED_TIME', 'AIR_TIME', 'DISTANCE', 'WHEELS_ON', 'TAXI_IN', 'SCHEDULED_ARRIVAL', 'ARRIVAL_TIME', 'ARRIVAL_DELAY', 'DIVERTED', 'CANCELLED', 'CANCELLATION_REASON', 'AIR_SYSTEM_DELAY', 'SECURITY_DELAY', 'AIRLINE_DELAY', 'LATE_AIRCRAFT_DELAY', 'WEATHER_DELAY']\n"
     ]
    }
   ],
   "source": [
    "# Вывожу список колонок flights\n",
    "print(flights.columns.tolist())"
   ]
  },
  {
   "cell_type": "code",
   "execution_count": 4,
   "metadata": {},
   "outputs": [
    {
     "name": "stdout",
     "output_type": "stream",
     "text": [
      "   YEAR  MONTH  DAY  DAY_OF_WEEK AIRLINE  FLIGHT_NUMBER TAIL_NUMBER  \\\n",
      "0  2015      1    1            4      AS             98      N407AS   \n",
      "1  2015      1    1            4      AA           2336      N3KUAA   \n",
      "2  2015      1    1            4      US            840      N171US   \n",
      "3  2015      1    1            4      AA            258      N3HYAA   \n",
      "4  2015      1    1            4      AS            135      N527AS   \n",
      "\n",
      "  ORIGIN_AIRPORT DESTINATION_AIRPORT  SCHEDULED_DEPARTURE  ...  ARRIVAL_TIME  \\\n",
      "0            ANC                 SEA                    5  ...         408.0   \n",
      "1            LAX                 PBI                   10  ...         741.0   \n",
      "2            SFO                 CLT                   20  ...         811.0   \n",
      "3            LAX                 MIA                   20  ...         756.0   \n",
      "4            SEA                 ANC                   25  ...         259.0   \n",
      "\n",
      "   ARRIVAL_DELAY  DIVERTED  CANCELLED  CANCELLATION_REASON  AIR_SYSTEM_DELAY  \\\n",
      "0          -22.0         0          0                  NaN               NaN   \n",
      "1           -9.0         0          0                  NaN               NaN   \n",
      "2            5.0         0          0                  NaN               NaN   \n",
      "3           -9.0         0          0                  NaN               NaN   \n",
      "4          -21.0         0          0                  NaN               NaN   \n",
      "\n",
      "   SECURITY_DELAY  AIRLINE_DELAY  LATE_AIRCRAFT_DELAY  WEATHER_DELAY  \n",
      "0             NaN            NaN                  NaN            NaN  \n",
      "1             NaN            NaN                  NaN            NaN  \n",
      "2             NaN            NaN                  NaN            NaN  \n",
      "3             NaN            NaN                  NaN            NaN  \n",
      "4             NaN            NaN                  NaN            NaN  \n",
      "\n",
      "[5 rows x 31 columns]\n"
     ]
    }
   ],
   "source": [
    "# Вывожу первые 5 строк flights\n",
    "print(flights.head())"
   ]
  },
  {
   "cell_type": "code",
   "execution_count": 5,
   "metadata": {},
   "outputs": [],
   "source": [
    "# Загрузка файла airport\n",
    "airport = pd.read_csv('C:/Users/Agito/OneDrive/Документы/Программы/Visual Studio/ML/flight dealay/airports.csv')"
   ]
  },
  {
   "cell_type": "code",
   "execution_count": 6,
   "metadata": {},
   "outputs": [
    {
     "name": "stdout",
     "output_type": "stream",
     "text": [
      "['IATA_CODE', 'AIRPORT', 'CITY', 'STATE', 'COUNTRY', 'LATITUDE', 'LONGITUDE']\n"
     ]
    }
   ],
   "source": [
    "# Вывожу список колонок airport\n",
    "print(airport.columns.tolist())"
   ]
  },
  {
   "cell_type": "code",
   "execution_count": 7,
   "metadata": {},
   "outputs": [
    {
     "name": "stdout",
     "output_type": "stream",
     "text": [
      "  IATA_CODE                              AIRPORT         CITY STATE COUNTRY  \\\n",
      "0       ABE  Lehigh Valley International Airport    Allentown    PA     USA   \n",
      "1       ABI             Abilene Regional Airport      Abilene    TX     USA   \n",
      "2       ABQ    Albuquerque International Sunport  Albuquerque    NM     USA   \n",
      "3       ABR            Aberdeen Regional Airport     Aberdeen    SD     USA   \n",
      "4       ABY   Southwest Georgia Regional Airport       Albany    GA     USA   \n",
      "\n",
      "   LATITUDE  LONGITUDE  \n",
      "0  40.65236  -75.44040  \n",
      "1  32.41132  -99.68190  \n",
      "2  35.04022 -106.60919  \n",
      "3  45.44906  -98.42183  \n",
      "4  31.53552  -84.19447  \n"
     ]
    }
   ],
   "source": [
    "# Вывожу первые 5 строк airport\n",
    "print(airport.head())"
   ]
  },
  {
   "cell_type": "code",
   "execution_count": 8,
   "metadata": {},
   "outputs": [],
   "source": [
    "# Загрузка файла airlines\n",
    "airlines = pd.read_csv('C:/Users/Agito/OneDrive/Документы/Программы/Visual Studio/ML/flight dealay/airlines.csv')"
   ]
  },
  {
   "cell_type": "code",
   "execution_count": 9,
   "metadata": {},
   "outputs": [
    {
     "name": "stdout",
     "output_type": "stream",
     "text": [
      "['IATA_CODE', 'AIRLINE']\n"
     ]
    }
   ],
   "source": [
    "# Вывожу список колонок airlines\n",
    "print(airlines.columns.tolist())"
   ]
  },
  {
   "cell_type": "code",
   "execution_count": 10,
   "metadata": {},
   "outputs": [
    {
     "name": "stdout",
     "output_type": "stream",
     "text": [
      "  IATA_CODE                 AIRLINE\n",
      "0        UA   United Air Lines Inc.\n",
      "1        AA  American Airlines Inc.\n",
      "2        US         US Airways Inc.\n",
      "3        F9  Frontier Airlines Inc.\n",
      "4        B6         JetBlue Airways\n"
     ]
    }
   ],
   "source": [
    "# Вывожу первые 5 строк airlines\n",
    "print(airlines.head())"
   ]
  },
  {
   "cell_type": "code",
   "execution_count": 11,
   "metadata": {},
   "outputs": [],
   "source": [
    "# Загрузка файла L_AIRPORT \n",
    "L_AIRPORT = pd.read_csv('C:/Users/Agito/OneDrive/Документы/Программы/Visual Studio/ML/flight dealay/L_AIRPORT.csv')"
   ]
  },
  {
   "cell_type": "code",
   "execution_count": 12,
   "metadata": {},
   "outputs": [
    {
     "name": "stdout",
     "output_type": "stream",
     "text": [
      "['Code', 'Description']\n"
     ]
    }
   ],
   "source": [
    "# Вывожу список колонок L_AIRPORT\n",
    "print(L_AIRPORT.columns.tolist())"
   ]
  },
  {
   "cell_type": "code",
   "execution_count": 13,
   "metadata": {},
   "outputs": [
    {
     "name": "stdout",
     "output_type": "stream",
     "text": [
      "  Code                                    Description\n",
      "0  01A         Afognak Lake, AK: Afognak Lake Airport\n",
      "1  03A  Granite Mountain, AK: Bear Creek Mining Strip\n",
      "2  04A                       Lik, AK: Lik Mining Camp\n",
      "3  05A         Little Squaw, AK: Little Squaw Airport\n",
      "4  06A                     Kizhuyak, AK: Kizhuyak Bay\n"
     ]
    }
   ],
   "source": [
    "# Вывожу первые 5 строк L_AIRPORT\n",
    "print(L_AIRPORT.head())"
   ]
  },
  {
   "cell_type": "code",
   "execution_count": 14,
   "metadata": {},
   "outputs": [
    {
     "name": "stdout",
     "output_type": "stream",
     "text": [
      "6429\n"
     ]
    }
   ],
   "source": [
    "# Количество записей\n",
    "print(len(L_AIRPORT))"
   ]
  },
  {
   "cell_type": "code",
   "execution_count": 15,
   "metadata": {},
   "outputs": [],
   "source": [
    "# Загрузка файла L_AIRPORT_ID \n",
    "L_AIRPORT_ID = pd.read_csv('C:/Users/Agito/OneDrive/Документы/Программы/Visual Studio/ML/flight dealay/L_AIRPORT_ID.csv')"
   ]
  },
  {
   "cell_type": "code",
   "execution_count": 16,
   "metadata": {},
   "outputs": [
    {
     "name": "stdout",
     "output_type": "stream",
     "text": [
      "['Code', 'Description']\n"
     ]
    }
   ],
   "source": [
    "# Вывожу список колонок L_AIRPORT_ID\n",
    "print(L_AIRPORT_ID.columns.tolist())"
   ]
  },
  {
   "cell_type": "code",
   "execution_count": 17,
   "metadata": {},
   "outputs": [
    {
     "name": "stdout",
     "output_type": "stream",
     "text": [
      "    Code                                    Description\n",
      "0  10001         Afognak Lake, AK: Afognak Lake Airport\n",
      "1  10003  Granite Mountain, AK: Bear Creek Mining Strip\n",
      "2  10004                       Lik, AK: Lik Mining Camp\n",
      "3  10005         Little Squaw, AK: Little Squaw Airport\n",
      "4  10006                     Kizhuyak, AK: Kizhuyak Bay\n"
     ]
    }
   ],
   "source": [
    "# Вывожу первые 5 строк L_AIRPORT_ID\n",
    "print(L_AIRPORT_ID.head())"
   ]
  },
  {
   "cell_type": "code",
   "execution_count": 18,
   "metadata": {},
   "outputs": [
    {
     "name": "stdout",
     "output_type": "stream",
     "text": [
      "6414\n"
     ]
    }
   ],
   "source": [
    "# Колличество записей\n",
    "print(len(L_AIRPORT_ID))"
   ]
  },
  {
   "cell_type": "code",
   "execution_count": 19,
   "metadata": {},
   "outputs": [
    {
     "name": "stdout",
     "output_type": "stream",
     "text": [
      "   YEAR  MONTH  DAY      DATE\n",
      "0  2015      1    1  01.01.15\n",
      "1  2015      1    1  01.01.15\n",
      "2  2015      1    1  01.01.15\n",
      "3  2015      1    1  01.01.15\n",
      "4  2015      1    1  01.01.15\n"
     ]
    }
   ],
   "source": [
    "# Создаю новую колонку DATE\n",
    "flights['DATE'] = flights['DAY'].astype(str).str.zfill(2) + '.' + \\\n",
    "             flights['MONTH'].astype(str).str.zfill(2) + '.' + \\\n",
    "             flights['YEAR'].astype(str).str[-2:]\n",
    "\n",
    "# Проверяю результат\n",
    "print(flights[['YEAR', 'MONTH', 'DAY', 'DATE']].head())"
   ]
  },
  {
   "cell_type": "code",
   "execution_count": 20,
   "metadata": {},
   "outputs": [
    {
     "name": "stdout",
     "output_type": "stream",
     "text": [
      "['YEAR', 'MONTH', 'DAY', 'DAY_OF_WEEK', 'AIRLINE', 'FLIGHT_NUMBER', 'TAIL_NUMBER', 'ORIGIN_AIRPORT', 'DESTINATION_AIRPORT', 'SCHEDULED_DEPARTURE', 'DEPARTURE_TIME', 'DEPARTURE_DELAY', 'TAXI_OUT', 'WHEELS_OFF', 'SCHEDULED_TIME', 'ELAPSED_TIME', 'AIR_TIME', 'DISTANCE', 'WHEELS_ON', 'TAXI_IN', 'SCHEDULED_ARRIVAL', 'ARRIVAL_TIME', 'ARRIVAL_DELAY', 'DIVERTED', 'CANCELLED', 'CANCELLATION_REASON', 'AIR_SYSTEM_DELAY', 'SECURITY_DELAY', 'AIRLINE_DELAY', 'LATE_AIRCRAFT_DELAY', 'WEATHER_DELAY', 'DATE']\n"
     ]
    }
   ],
   "source": [
    "# Вывожу список колонок flights\n",
    "print(flights.columns.tolist())"
   ]
  },
  {
   "cell_type": "code",
   "execution_count": 21,
   "metadata": {},
   "outputs": [
    {
     "name": "stdout",
     "output_type": "stream",
     "text": [
      "0          01.01.15\n",
      "1          01.01.15\n",
      "2          01.01.15\n",
      "3          01.01.15\n",
      "4          01.01.15\n",
      "             ...   \n",
      "5819074    31.12.15\n",
      "5819075    31.12.15\n",
      "5819076    31.12.15\n",
      "5819077    31.12.15\n",
      "5819078    31.12.15\n",
      "Name: DATE, Length: 5819079, dtype: object\n"
     ]
    }
   ],
   "source": [
    "# Вывожу данные из колонки DATE\n",
    "print(flights['DATE'])"
   ]
  },
  {
   "cell_type": "code",
   "execution_count": 22,
   "metadata": {},
   "outputs": [
    {
     "name": "stdout",
     "output_type": "stream",
     "text": [
      "YEAR                         0\n",
      "MONTH                        0\n",
      "DAY                          0\n",
      "DAY_OF_WEEK                  0\n",
      "AIRLINE                      0\n",
      "FLIGHT_NUMBER                0\n",
      "TAIL_NUMBER              14721\n",
      "ORIGIN_AIRPORT               0\n",
      "DESTINATION_AIRPORT          0\n",
      "SCHEDULED_DEPARTURE          0\n",
      "DEPARTURE_TIME           86153\n",
      "DEPARTURE_DELAY          86153\n",
      "TAXI_OUT                 89047\n",
      "WHEELS_OFF               89047\n",
      "SCHEDULED_TIME               6\n",
      "ELAPSED_TIME            105071\n",
      "AIR_TIME                105071\n",
      "DISTANCE                     0\n",
      "WHEELS_ON                92513\n",
      "TAXI_IN                  92513\n",
      "SCHEDULED_ARRIVAL            0\n",
      "ARRIVAL_TIME             92513\n",
      "ARRIVAL_DELAY           105071\n",
      "DIVERTED                     0\n",
      "CANCELLED                    0\n",
      "CANCELLATION_REASON    5729195\n",
      "AIR_SYSTEM_DELAY       4755640\n",
      "SECURITY_DELAY         4755640\n",
      "AIRLINE_DELAY          4755640\n",
      "LATE_AIRCRAFT_DELAY    4755640\n",
      "WEATHER_DELAY          4755640\n",
      "DATE                         0\n",
      "dtype: int64\n"
     ]
    }
   ],
   "source": [
    "# Проверяю на пропуски\n",
    "print(flights.isnull().sum())"
   ]
  },
  {
   "cell_type": "code",
   "execution_count": 23,
   "metadata": {},
   "outputs": [],
   "source": [
    "# Удаляю отмененные рейсы\n",
    "flights = flights[flights['CANCELLED'] == 0]"
   ]
  },
  {
   "cell_type": "code",
   "execution_count": 24,
   "metadata": {},
   "outputs": [],
   "source": [
    "# Заполняю NaN нулями в колонке DEPARTURE_DELAY для дальнейшего обучения модели\n",
    "flights['DEPARTURE_DELAY'] = flights['DEPARTURE_DELAY'].fillna(0)"
   ]
  },
  {
   "cell_type": "code",
   "execution_count": 25,
   "metadata": {},
   "outputs": [
    {
     "name": "stdout",
     "output_type": "stream",
     "text": [
      "   YEAR  MONTH  DAY  DAY_OF_WEEK AIRLINE  FLIGHT_NUMBER TAIL_NUMBER  \\\n",
      "0  2015      1    1            4      AS             98      N407AS   \n",
      "1  2015      1    1            4      AA           2336      N3KUAA   \n",
      "2  2015      1    1            4      US            840      N171US   \n",
      "3  2015      1    1            4      AA            258      N3HYAA   \n",
      "4  2015      1    1            4      AS            135      N527AS   \n",
      "\n",
      "  ORIGIN_AIRPORT DESTINATION_AIRPORT  SCHEDULED_DEPARTURE  ...  CANCELLED  \\\n",
      "0            ANC                 SEA                    5  ...          0   \n",
      "1            LAX                 PBI                   10  ...          0   \n",
      "2            SFO                 CLT                   20  ...          0   \n",
      "3            LAX                 MIA                   20  ...          0   \n",
      "4            SEA                 ANC                   25  ...          0   \n",
      "\n",
      "   CANCELLATION_REASON  AIR_SYSTEM_DELAY  SECURITY_DELAY  AIRLINE_DELAY  \\\n",
      "0                  NaN               NaN             NaN            NaN   \n",
      "1                  NaN               NaN             NaN            NaN   \n",
      "2                  NaN               NaN             NaN            NaN   \n",
      "3                  NaN               NaN             NaN            NaN   \n",
      "4                  NaN               NaN             NaN            NaN   \n",
      "\n",
      "   LATE_AIRCRAFT_DELAY  WEATHER_DELAY      DATE  IATA_CODE  \\\n",
      "0                  NaN            NaN  01.01.15        ANC   \n",
      "1                  NaN            NaN  01.01.15        LAX   \n",
      "2                  NaN            NaN  01.01.15        SFO   \n",
      "3                  NaN            NaN  01.01.15        LAX   \n",
      "4                  NaN            NaN  01.01.15        SEA   \n",
      "\n",
      "                                       AIRPORT  \n",
      "0  Ted Stevens Anchorage International Airport  \n",
      "1            Los Angeles International Airport  \n",
      "2          San Francisco International Airport  \n",
      "3            Los Angeles International Airport  \n",
      "4         Seattle-Tacoma International Airport  \n",
      "\n",
      "[5 rows x 34 columns]\n"
     ]
    }
   ],
   "source": [
    "# Объединяю таблицы по разным названиям колонок\n",
    "flights = flights.merge(airport[['IATA_CODE', 'AIRPORT']], \n",
    "                        left_on='ORIGIN_AIRPORT', \n",
    "                        right_on='IATA_CODE', \n",
    "                        how='left')\n",
    "\n",
    "# Проверяю результат\n",
    "print(flights.head())"
   ]
  },
  {
   "cell_type": "code",
   "execution_count": 26,
   "metadata": {},
   "outputs": [
    {
     "name": "stdout",
     "output_type": "stream",
     "text": [
      "0                Ted Stevens Anchorage International Airport\n",
      "1                          Los Angeles International Airport\n",
      "2                        San Francisco International Airport\n",
      "3                          Los Angeles International Airport\n",
      "4                       Seattle-Tacoma International Airport\n",
      "                                 ...                        \n",
      "5729190                    Los Angeles International Airport\n",
      "5729191    John F. Kennedy International Airport (New Yor...\n",
      "5729192    John F. Kennedy International Airport (New Yor...\n",
      "5729193                        Orlando International Airport\n",
      "5729194    John F. Kennedy International Airport (New Yor...\n",
      "Name: AIRPORT, Length: 5729195, dtype: object\n"
     ]
    }
   ],
   "source": [
    "# Вывожу данные из колонки AIRPORT\n",
    "print(flights['AIRPORT'])"
   ]
  },
  {
   "cell_type": "markdown",
   "metadata": {},
   "source": [
    "### 1. Найти аэропорт с минимальной задержкой вылета"
   ]
  },
  {
   "cell_type": "code",
   "execution_count": 27,
   "metadata": {},
   "outputs": [],
   "source": [
    "# Фильтрую данные для вылетов\n",
    "departure_delays = flights.groupby('AIRPORT')['DEPARTURE_DELAY'].mean()"
   ]
  },
  {
   "cell_type": "code",
   "execution_count": 28,
   "metadata": {},
   "outputs": [
    {
     "name": "stdout",
     "output_type": "stream",
     "text": [
      "Аэропорт с минимальной задержкой вылета: Yakutat Airport, задержка: -6.292237442922374 минут\n"
     ]
    }
   ],
   "source": [
    "# Нахожу аэропорт с минимальной задержкой\n",
    "min_delay_airport = departure_delays.idxmin()\n",
    "min_delay_value = departure_delays.min()\n",
    "\n",
    "print(f\"Аэропорт с минимальной задержкой вылета: {min_delay_airport}, задержка: {min_delay_value} минут\")"
   ]
  },
  {
   "cell_type": "markdown",
   "metadata": {},
   "source": [
    "### 2. Самая пунктуальная авиакомпания на прилет в Los Angeles International Airport"
   ]
  },
  {
   "cell_type": "code",
   "execution_count": 29,
   "metadata": {},
   "outputs": [],
   "source": [
    "# Фильтрую данные для аэропорта Los Angeles International Airport\n",
    "LA_flights = flights[flights['DESTINATION_AIRPORT'] == 'LAX']"
   ]
  },
  {
   "cell_type": "code",
   "execution_count": 30,
   "metadata": {},
   "outputs": [
    {
     "name": "stdout",
     "output_type": "stream",
     "text": [
      "Самая пунктуальная авиакомпания: VX\n"
     ]
    }
   ],
   "source": [
    "# Нахожу самую пунктуальную авиакомпанию\n",
    "punctual_airline = LA_flights.groupby('AIRLINE')['AIRLINE_DELAY'].mean().idxmin()\n",
    "print(\"Самая пунктуальная авиакомпания:\", punctual_airline)"
   ]
  },
  {
   "cell_type": "markdown",
   "metadata": {},
   "source": [
    "### 3. Найти аэропорт, где самолёты проводят больше всего времени на рулении (среднее значение), вывести названия аэропорта (колонка AIRPORT)"
   ]
  },
  {
   "cell_type": "code",
   "execution_count": 31,
   "metadata": {},
   "outputs": [
    {
     "name": "stdout",
     "output_type": "stream",
     "text": [
      "Аэропорт с максимальным временем на рулении: John F. Kennedy International Airport (New York International Airport)\n"
     ]
    }
   ],
   "source": [
    "# Нахожу среднее время руления по аэропортам\n",
    "taxi_time = flights.groupby('AIRPORT')['TAXI_OUT'].mean().idxmax()\n",
    "print(\"Аэропорт с максимальным временем на рулении:\", taxi_time)"
   ]
  },
  {
   "cell_type": "markdown",
   "metadata": {},
   "source": [
    "### 4. Построить модель, которая будет выбирать топ 3 аэропорта прилета (вероятность опоздания минимальная – RMSE метрика), в зависимости от аэропорта вылета "
   ]
  },
  {
   "cell_type": "code",
   "execution_count": 32,
   "metadata": {},
   "outputs": [],
   "source": [
    "# Библиотеки\n",
    "from sklearn.model_selection import train_test_split\n",
    "from sklearn.ensemble import RandomForestRegressor\n",
    "from sklearn.metrics import mean_squared_error\n",
    "from sklearn.preprocessing import OneHotEncoder  \n",
    "import numpy as np"
   ]
  },
  {
   "cell_type": "code",
   "execution_count": 33,
   "metadata": {},
   "outputs": [],
   "source": [
    "# Преобразую категориальные переменные в строки\n",
    "flights['AIRPORT'] = flights['AIRPORT'].astype(str)\n",
    "flights['DESTINATION_AIRPORT'] = flights['DESTINATION_AIRPORT'].astype(str)"
   ]
  },
  {
   "cell_type": "code",
   "execution_count": 34,
   "metadata": {},
   "outputs": [],
   "source": [
    "# Создаю признаки\n",
    "X = flights[['AIRPORT', 'DESTINATION_AIRPORT']]\n",
    "y = flights['DEPARTURE_DELAY']"
   ]
  },
  {
   "cell_type": "code",
   "execution_count": 35,
   "metadata": {},
   "outputs": [],
   "source": [
    "# Использую OneHotEncoder с sparse_output=True\n",
    "encoder = OneHotEncoder(sparse_output=True)\n",
    "X_encoded = encoder.fit_transform(X)"
   ]
  },
  {
   "cell_type": "code",
   "execution_count": 36,
   "metadata": {},
   "outputs": [],
   "source": [
    "# Разбиваю данные на обучающую и тестовую выборки\n",
    "X_train, X_test, y_train, y_test = train_test_split(X_encoded, y, test_size=0.2, random_state=42)"
   ]
  },
  {
   "cell_type": "code",
   "execution_count": null,
   "metadata": {},
   "outputs": [],
   "source": [
    "# Обучение модели\n",
    "model = RandomForestRegressor(n_estimators=50, random_state=42)\n",
    "model.fit(X_train, y_train)"
   ]
  }
 ],
 "metadata": {
  "kernelspec": {
   "display_name": "Python 3",
   "language": "python",
   "name": "python3"
  },
  "language_info": {
   "codemirror_mode": {
    "name": "ipython",
    "version": 3
   },
   "file_extension": ".py",
   "mimetype": "text/x-python",
   "name": "python",
   "nbconvert_exporter": "python",
   "pygments_lexer": "ipython3",
   "version": "3.11.9"
  }
 },
 "nbformat": 4,
 "nbformat_minor": 2
}
