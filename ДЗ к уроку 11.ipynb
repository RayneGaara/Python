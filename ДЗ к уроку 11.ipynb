{
 "cells": [
  {
   "cell_type": "markdown",
   "metadata": {
    "id": "pDrecLU-4QjS"
   },
   "source": [
    "# Практика"
   ]
  },
  {
   "cell_type": "markdown",
   "metadata": {
    "id": "gUvTNDlMaV-a"
   },
   "source": [
    "## Определение вероятности. События\n",
    "\n",
    "Требуется сгенерировать необходимые выборки и произвести по ним расчеты"
   ]
  },
  {
   "cell_type": "markdown",
   "metadata": {
    "id": "5V70InEBTgup"
   },
   "source": [
    "### Задача 1\n",
    "Брошено две монеты. Найти вероятность того, что монеты выпали разными сторонами\n",
    "\n",
    "_Ответ: 0.5_"
   ]
  },
  {
   "cell_type": "code",
   "execution_count": 1,
   "metadata": {
    "id": "88Iw-SL3jYQV"
   },
   "outputs": [],
   "source": [
    "import random"
   ]
  },
  {
   "cell_type": "code",
   "execution_count": 2,
   "metadata": {},
   "outputs": [],
   "source": [
    "# бросаю монеты\n",
    "# O - Орел, R - Решка\n",
    "\n",
    "def simulate_coin_flips(num_trials):\n",
    "    different_sides_count = 0\n",
    "\n",
    "    for _ in range(num_trials):\n",
    "        coin1 = random.choice(['O', 'R'])\n",
    "        coin2 = random.choice(['O', 'R'])\n",
    "\n",
    "        # Проверяю, выпали ли монеты разными сторонами\n",
    "        if coin1 != coin2:\n",
    "            different_sides_count += 1\n",
    "\n",
    "            # Вычисляю вероятность\n",
    "    probability = different_sides_count / num_trials\n",
    "    return probability\n",
    "\n",
    "# Количество симуляций\n",
    "num_trials = 100000\n",
    "probability = simulate_coin_flips(num_trials)\n"
   ]
  },
  {
   "cell_type": "code",
   "execution_count": 3,
   "metadata": {},
   "outputs": [
    {
     "name": "stdout",
     "output_type": "stream",
     "text": [
      "Вероятность того, что монеты выпали разными сторонами: 0.50\n"
     ]
    }
   ],
   "source": [
    "print(f'Вероятность того, что монеты выпали разными сторонами: {probability:.2f}')"
   ]
  },
  {
   "cell_type": "markdown",
   "metadata": {
    "id": "t0XOMos2Tl0e"
   },
   "source": [
    "### Задача 2\n",
    "Брошено три монеты. Описать множество всех элементарных событий. Найти вероятности следующих событий:\n",
    "\n",
    "\n",
    "1.   A = {не выпало ни одного герба}\n",
    "2.   B = {выпало четное число гербов}\n",
    "3.   C = {на третьей монете выпал герб}\n",
    "\n",
    "_Ответы:  0.125, 0.375, 0.5_"
   ]
  },
  {
   "cell_type": "code",
   "execution_count": 4,
   "metadata": {},
   "outputs": [],
   "source": [
    "# Определяю множество элементарных событий\n",
    "outcomes = ['HHH', 'HHT', 'HTH', 'HTT', 'THH', 'THT', 'TTH', 'TTT']"
   ]
  },
  {
   "cell_type": "code",
   "execution_count": 5,
   "metadata": {},
   "outputs": [],
   "source": [
    "# Событие A: не выпало ни одного герба\n",
    "A = [outcome for outcome in outcomes if 'H' not in outcome]\n",
    "\n",
    "# Событие B: выпало четное число гербов\n",
    "B = [outcome for outcome in outcomes if outcome.count('H') % 2 == 0]\n",
    "\n",
    "# Событие C: на третьей монете выпал герб\n",
    "C = [outcome for outcome in outcomes if outcome[2] == 'H']"
   ]
  },
  {
   "cell_type": "code",
   "execution_count": 6,
   "metadata": {},
   "outputs": [],
   "source": [
    "# Вычисляю вероятности\n",
    "P_A = len(A) / len(outcomes)\n",
    "P_B = len(B) / len(outcomes)\n",
    "P_C = len(C) / len(outcomes)"
   ]
  },
  {
   "cell_type": "code",
   "execution_count": 7,
   "metadata": {
    "id": "o7NjAE9uUo-L"
   },
   "outputs": [
    {
     "name": "stdout",
     "output_type": "stream",
     "text": [
      "Событие A (не выпало ни одного герба): ['TTT'], вероятность: 0.12\n",
      "Событие B (выпало четное число гербов): ['HHT', 'HTH', 'THH', 'TTT'], вероятность: 0.50\n",
      "Событие C (на третьей монете выпал герб): ['HHH', 'HTH', 'THH', 'TTH'], вероятность: 0.50\n"
     ]
    }
   ],
   "source": [
    "# Вывод результатов\n",
    "print(f'Событие A (не выпало ни одного герба): {A}, вероятность: {P_A:.2f}')\n",
    "print(f'Событие B (выпало четное число гербов): {B}, вероятность: {P_B:.2f}')\n",
    "print(f'Событие C (на третьей монете выпал герб): {C}, вероятность: {P_C:.2f}')"
   ]
  },
  {
   "cell_type": "markdown",
   "metadata": {},
   "source": [
    "Предлагается также решить задачи: \n",
    "\n",
    "### Задача 3\n",
    "Из двух претендентов E и L на ответственную должность три члена комиссии должны отобрать одного. Каждый член комиссии должен указать либо одного достойного, либо забраковать обоих. Претендент считается выбранным, если он был признана достойным хотя бы двумя членами комиссии.\n",
    "Найти вероятность событий:\n",
    "\n",
    "A = {рекомендован L}, B = {рекомендован E}\n",
    "\n",
    "_Ответы: 0.26, 0.26_"
   ]
  },
  {
   "cell_type": "code",
   "execution_count": 8,
   "metadata": {},
   "outputs": [],
   "source": [
    "from itertools import product"
   ]
  },
  {
   "cell_type": "code",
   "execution_count": 9,
   "metadata": {},
   "outputs": [],
   "source": [
    "# Все возможные исходы\n",
    "outcomes = list(product(['E', 'L', 'N'], repeat=3))"
   ]
  },
  {
   "cell_type": "code",
   "execution_count": 10,
   "metadata": {},
   "outputs": [],
   "source": [
    "# События\n",
    "A = []  # Рекомендован L\n",
    "B = []  # Рекомендован E"
   ]
  },
  {
   "cell_type": "code",
   "execution_count": 11,
   "metadata": {},
   "outputs": [],
   "source": [
    "# Проверяю каждое событие\n",
    "for outcome in outcomes:\n",
    "    count_E = outcome.count('E')\n",
    "    count_L = outcome.count('L')\n",
    "\n",
    "         # Проверяю, был ли рекомендован L\n",
    "    if count_L >= 2:\n",
    "        A.append(outcome)\n",
    "    \n",
    "    # Проверяю, был ли рекомендован E\n",
    "    if count_E >= 2:\n",
    "        B.append(outcome)"
   ]
  },
  {
   "cell_type": "code",
   "execution_count": 12,
   "metadata": {},
   "outputs": [],
   "source": [
    "# Вычисляю вероятности\n",
    "P_A = len(A) / len(outcomes)\n",
    "P_B = len(B) / len(outcomes)"
   ]
  },
  {
   "cell_type": "code",
   "execution_count": 13,
   "metadata": {},
   "outputs": [
    {
     "name": "stdout",
     "output_type": "stream",
     "text": [
      "Событие A (рекомендован L): [('E', 'L', 'L'), ('L', 'E', 'L'), ('L', 'L', 'E'), ('L', 'L', 'L'), ('L', 'L', 'N'), ('L', 'N', 'L'), ('N', 'L', 'L')], вероятность: 0.26\n",
      "Событие B (рекомендован E): [('E', 'E', 'E'), ('E', 'E', 'L'), ('E', 'E', 'N'), ('E', 'L', 'E'), ('E', 'N', 'E'), ('L', 'E', 'E'), ('N', 'E', 'E')], вероятность: 0.26\n"
     ]
    }
   ],
   "source": [
    "# Вывод результатов\n",
    "print(f'Событие A (рекомендован L): {A}, вероятность: {P_A:.2f}')\n",
    "print(f'Событие B (рекомендован E): {B}, вероятность: {P_B:.2f}')"
   ]
  },
  {
   "cell_type": "markdown",
   "metadata": {
    "id": "peM38mVfYa5B"
   },
   "source": [
    "### Задача 4\n",
    "Брошено две игральных кости. Описать множество элементарных событий. Найти вероятности событий:\n",
    "\n",
    "A = {вышло две \"шестерки\"}\n",
    "\n",
    "B = {сумма выпавших очков не меньше 11}\n",
    "\n",
    "C = {не выпала ни одна \"шестерка\"}\n",
    "\n",
    "_Ответы (не забывайте о множестве элементарных событий): 0.028, 0.083, 0.7_"
   ]
  },
  {
   "cell_type": "code",
   "execution_count": 14,
   "metadata": {},
   "outputs": [],
   "source": [
    "# Определяю множество элементарных событий\n",
    "outcomes = [(x, y) for x in range(1, 7) for y in range(1, 7)]"
   ]
  },
  {
   "cell_type": "code",
   "execution_count": 15,
   "metadata": {},
   "outputs": [],
   "source": [
    "# События\n",
    "A = []  # Две шестерки\n",
    "B = []  # Сумма не меньше 11\n",
    "C = []  # Не выпала ни одна шестерка"
   ]
  },
  {
   "cell_type": "code",
   "execution_count": 16,
   "metadata": {},
   "outputs": [],
   "source": [
    "# Проверяю каждое событие\n",
    "for outcome in outcomes:\n",
    "    x, y = outcome\n",
    "    \n",
    "    # Событие A: две шестерки\n",
    "    if x == 6 and y == 6:\n",
    "        A.append(outcome)\n",
    "    \n",
    "    # Событие B: сумма не меньше 11\n",
    "    if x + y >= 11:\n",
    "        B.append(outcome)\n",
    "    \n",
    "    # Событие C: не выпала ни одна шестерка\n",
    "    if x != 6 and y != 6:\n",
    "        C.append(outcome)"
   ]
  },
  {
   "cell_type": "code",
   "execution_count": 17,
   "metadata": {},
   "outputs": [],
   "source": [
    "# Вычисляю вероятности\n",
    "P_A = len(A) / len(outcomes)\n",
    "P_B = len(B) / len(outcomes)\n",
    "P_C = len(C) / len(outcomes)"
   ]
  },
  {
   "cell_type": "code",
   "execution_count": 18,
   "metadata": {},
   "outputs": [
    {
     "name": "stdout",
     "output_type": "stream",
     "text": [
      "Событие A (вышло две шестерки): [(6, 6)], вероятность: 0.03\n",
      "Событие B (сумма не меньше 11): [(5, 6), (6, 5), (6, 6)], вероятность: 0.08\n",
      "Событие C (не выпала ни одна шестерка): [(1, 1), (1, 2), (1, 3), (1, 4), (1, 5), (2, 1), (2, 2), (2, 3), (2, 4), (2, 5), (3, 1), (3, 2), (3, 3), (3, 4), (3, 5), (4, 1), (4, 2), (4, 3), (4, 4), (4, 5), (5, 1), (5, 2), (5, 3), (5, 4), (5, 5)], вероятность: 0.69\n"
     ]
    }
   ],
   "source": [
    "# Вывод результатов\n",
    "print(f'Событие A (вышло две шестерки): {A}, вероятность: {P_A:.2f}')\n",
    "print(f'Событие B (сумма не меньше 11): {B}, вероятность: {P_B:.2f}')\n",
    "print(f'Событие C (не выпала ни одна шестерка): {C}, вероятность: {P_C:.2f}')"
   ]
  },
  {
   "cell_type": "markdown",
   "metadata": {
    "id": "f-Bi0p8haclB"
   },
   "source": [
    "## Вероятность суммы событий"
   ]
  },
  {
   "cell_type": "markdown",
   "metadata": {
    "id": "g7A7QlvGTnwZ"
   },
   "source": [
    "### Задача 5\n",
    "Брошены две игральные кости. Найти вероятность события D = {выпала хотя бы одна шестёрка}\n",
    "\n",
    "_Ответ: 0.305_"
   ]
  },
  {
   "cell_type": "code",
   "execution_count": 19,
   "metadata": {},
   "outputs": [],
   "source": [
    "# Определяю множество элементарных событий\n",
    "outcomes = [(x, y) for x in range(1, 7) for y in range(1, 7)]"
   ]
  },
  {
   "cell_type": "code",
   "execution_count": 20,
   "metadata": {},
   "outputs": [],
   "source": [
    "# Событие D: выпала хотя бы одна шестерка\n",
    "D = []\n",
    "\n",
    "# Проверяю каждое событие\n",
    "for outcome in outcomes:\n",
    "    x, y = outcome\n",
    "    # Если хотя бы одна из костей равна 6, добавляю в событие D\n",
    "    if x == 6 or y == 6:\n",
    "        D.append(outcome)"
   ]
  },
  {
   "cell_type": "code",
   "execution_count": 21,
   "metadata": {},
   "outputs": [],
   "source": [
    "# Вычисляю вероятность\n",
    "P_D = len(D) / len(outcomes)"
   ]
  },
  {
   "cell_type": "code",
   "execution_count": 22,
   "metadata": {
    "id": "vjtTJN-kUp9D"
   },
   "outputs": [
    {
     "name": "stdout",
     "output_type": "stream",
     "text": [
      "Событие D (выпала хотя бы одна шестерка): [(1, 6), (2, 6), (3, 6), (4, 6), (5, 6), (6, 1), (6, 2), (6, 3), (6, 4), (6, 5), (6, 6)], вероятность: 0.31\n"
     ]
    }
   ],
   "source": [
    "# Вывод результата\n",
    "print(f'Событие D (выпала хотя бы одна шестерка): {D}, вероятность: {P_D:.2f}')"
   ]
  },
  {
   "cell_type": "markdown",
   "metadata": {
    "id": "R1bYSzQQbC6I"
   },
   "source": [
    "Предлагается также решить задачи: \n",
    "\n",
    "### Задача 6\n",
    "В телефонном номере три последние цифры стерлись. Считая, что все возможные значения стершихся цифр равновероятны, найти вероятность событий:\n",
    "\n",
    "A = {Стерлись различные цифры},\n",
    "\n",
    "B = {Стерлись одинаковые цифры},\n",
    "\n",
    "C = {Среди стершихся цифр хотя бы две совпадают},\n",
    "\n",
    "D = {Среди стершихся цифр хотя бы две различны}\n",
    "\n",
    "_Ответы: 0.72, 0.01, 0.28, 0.99_"
   ]
  },
  {
   "cell_type": "code",
   "execution_count": 23,
   "metadata": {},
   "outputs": [],
   "source": [
    "# есть ранее в коде\n",
    "# from itertools import product"
   ]
  },
  {
   "cell_type": "code",
   "execution_count": 24,
   "metadata": {},
   "outputs": [],
   "source": [
    "# Определяю все возможные комбинации трех цифр\n",
    "outcomes = [''.join(map(str, comb)) for comb in product(range(10), repeat=3)]"
   ]
  },
  {
   "cell_type": "code",
   "execution_count": 25,
   "metadata": {},
   "outputs": [],
   "source": [
    "# Проверяю каждое событие\n",
    "for outcome in outcomes:\n",
    "    unique_digits = set(outcome)\n",
    "    \n",
    "    # Событие A: все цифры различны\n",
    "    if len(unique_digits) == 3:\n",
    "        A.append(outcome)\n",
    "    \n",
    "    # Событие B: все цифры одинаковы\n",
    "    if len(unique_digits) == 1:\n",
    "        B.append(outcome)\n",
    "    \n",
    "    # Событие C: хотя бы две совпадают\n",
    "    if len(unique_digits) < 3:\n",
    "        C.append(outcome)\n",
    "    \n",
    "    # Событие D: хотя бы две различны\n",
    "    if len(unique_digits) > 1:\n",
    "        D.append(outcome)\n"
   ]
  },
  {
   "cell_type": "code",
   "execution_count": 26,
   "metadata": {},
   "outputs": [],
   "source": [
    "# Вычисляю вероятности\n",
    "P_A = len(A) / len(outcomes)\n",
    "P_B = len(B) / len(outcomes)\n",
    "P_C = len(C) / len(outcomes)\n",
    "P_D = len(D) / len(outcomes)"
   ]
  },
  {
   "cell_type": "code",
   "execution_count": 27,
   "metadata": {},
   "outputs": [
    {
     "name": "stdout",
     "output_type": "stream",
     "text": [
      "Событие A (Стерлись различные цифры): вероятность: 0.72\n",
      "Событие B (Стерлись одинаковые цифры): вероятность: 0.01\n",
      "Событие C (Среди стершихся цифр хотя бы две совпадают): вероятность: 0.30\n",
      "Событие D (Среди стершихся цифр хотя бы две различны): вероятность: 1.00\n"
     ]
    }
   ],
   "source": [
    "# Вывод результатов\n",
    "print(f'Событие A (Стерлись различные цифры): вероятность: {P_A:.2f}')\n",
    "print(f'Событие B (Стерлись одинаковые цифры): вероятность: {P_B:.2f}')\n",
    "print(f'Событие C (Среди стершихся цифр хотя бы две совпадают): вероятность: {P_C:.2f}')\n",
    "print(f'Событие D (Среди стершихся цифр хотя бы две различны): вероятность: {P_D:.2f}')"
   ]
  },
  {
   "cell_type": "markdown",
   "metadata": {
    "id": "RnugkR8BalK_"
   },
   "source": [
    "## Случайные величины"
   ]
  },
  {
   "cell_type": "markdown",
   "metadata": {
    "id": "yLoZDZ17UVsp"
   },
   "source": [
    "### Задача 7\n",
    "В лотерее имеется 10 билетов, из которых один выигрышный. Размер выигрыша 10 ден. ед.; стоимость билета 1 ден ед. Найти закон распределения случайной величины X, равной чистому выигрышу участника лотереи, который вытаскивает билет первым.\n",
    "\n",
    "_Ответ: закон распределения данной величины_"
   ]
  },
  {
   "cell_type": "code",
   "execution_count": 28,
   "metadata": {},
   "outputs": [],
   "source": [
    "import numpy as np\n",
    "import matplotlib.pyplot as plt\n",
    "from collections import Counter"
   ]
  },
  {
   "cell_type": "code",
   "execution_count": 29,
   "metadata": {},
   "outputs": [],
   "source": [
    "# Значения случайной величины X\n",
    "x_values = np.array([9, -1])\n",
    "# Соответствующие вероятности\n",
    "probabilities = np.array([1/10, 9/10])"
   ]
  },
  {
   "cell_type": "code",
   "execution_count": 30,
   "metadata": {},
   "outputs": [
    {
     "name": "stdout",
     "output_type": "stream",
     "text": [
      "P(X = 9) = 0.10\n",
      "P(X = -1) = 0.90\n"
     ]
    }
   ],
   "source": [
    "# Вывод закона распределения\n",
    "for x, p in zip(x_values, probabilities):\n",
    "    print(f'P(X = {x}) = {p:.2f}')"
   ]
  },
  {
   "cell_type": "code",
   "execution_count": 31,
   "metadata": {},
   "outputs": [
    {
     "data": {
      "image/png": "[encoded data removed]",
      "text/plain": [
       "<Figure size 640x480 with 1 Axes>"
      ]
     },
     "metadata": {},
     "output_type": "display_data"
    }
   ],
   "source": [
    "# График распределения\n",
    "plt.bar(x_values, probabilities, color=['green', 'red'], alpha=0.7)\n",
    "plt.xlabel('Чистый выигрыш (X)', fontsize=14, fontweight='bold', color='Blue')\n",
    "plt.ylabel('Вероятность P(X)', fontsize=14, fontweight='bold', color='Blue')\n",
    "plt.title('Закон распределения случайной величины X', fontsize=16, fontweight='bold', color='Green')\n",
    "plt.xticks(x_values)\n",
    "plt.ylim(0, 1)\n",
    "plt.grid(axis='y', color='ghostwhite')"
   ]
  },
  {
   "cell_type": "markdown",
   "metadata": {
    "id": "U-NK9liSbpvb"
   },
   "source": [
    "Предлагается также решить задачу: \n",
    "\n",
    "### Задача 8\n",
    "Брошены две игральные кости. Найти закон распределения случайной величины $X$, равной сумме выпавших очков. Найти вероятности событий ${X <= 4}$, ${X > 4}$\n",
    "\n",
    "_Ответ: закон распределения случайной величины , вероятности событий  𝑋<=4 и 𝑋>4_"
   ]
  },
  {
   "cell_type": "code",
   "execution_count": 32,
   "metadata": {},
   "outputs": [],
   "source": [
    "# есть ранее в коде\n",
    "# import numpy as np\n",
    "# import matplotlib.pyplot as plt\n",
    "# from collections import Counter"
   ]
  },
  {
   "cell_type": "code",
   "execution_count": 33,
   "metadata": {},
   "outputs": [],
   "source": [
    "# Генерирую все возможные комбинации бросков двух костей\n",
    "outcomes = [(x, y) for x in range(1, 7) for y in range(1, 7)]\n",
    "# Считаю суммы\n",
    "sums = [x + y for x, y in outcomes]"
   ]
  },
  {
   "cell_type": "code",
   "execution_count": 34,
   "metadata": {},
   "outputs": [],
   "source": [
    "# Считаю количество появлений каждой суммы\n",
    "sum_counts = Counter(sums)"
   ]
  },
  {
   "cell_type": "code",
   "execution_count": 35,
   "metadata": {},
   "outputs": [],
   "source": [
    "# Получаю значения и вероятности\n",
    "x_values = np.arange(2, 13)\n",
    "probabilities = np.array([sum_counts[i] for i in x_values]) / len(outcomes)"
   ]
  },
  {
   "cell_type": "code",
   "execution_count": 36,
   "metadata": {},
   "outputs": [
    {
     "name": "stdout",
     "output_type": "stream",
     "text": [
      "P(X = 2) = 0.03\n",
      "P(X = 3) = 0.06\n",
      "P(X = 4) = 0.08\n",
      "P(X = 5) = 0.11\n",
      "P(X = 6) = 0.14\n",
      "P(X = 7) = 0.17\n",
      "P(X = 8) = 0.14\n",
      "P(X = 9) = 0.11\n",
      "P(X = 10) = 0.08\n",
      "P(X = 11) = 0.06\n",
      "P(X = 12) = 0.03\n"
     ]
    }
   ],
   "source": [
    "# Вывод закона распределения\n",
    "for x, p in zip(x_values, probabilities):\n",
    "    print(f'P(X = {x}) = {p:.2f}')\n"
   ]
  },
  {
   "cell_type": "code",
   "execution_count": 37,
   "metadata": {},
   "outputs": [],
   "source": [
    "# Вероятности событий\n",
    "P_X_le_4 = sum(probabilities[x_values <= 4])\n",
    "P_X_gt_4 = sum(probabilities[x_values > 4])"
   ]
  },
  {
   "cell_type": "code",
   "execution_count": 38,
   "metadata": {},
   "outputs": [
    {
     "name": "stdout",
     "output_type": "stream",
     "text": [
      "Вероятность события X <= 4: 0.17\n",
      "Вероятность события X > 4: 0.83\n"
     ]
    }
   ],
   "source": [
    "print(f'Вероятность события X <= 4: {P_X_le_4:.2f}')\n",
    "print(f'Вероятность события X > 4: {P_X_gt_4:.2f}')"
   ]
  },
  {
   "cell_type": "code",
   "execution_count": 39,
   "metadata": {},
   "outputs": [
    {
     "data": {
      "image/png": "[encoded data removed]",
      "text/plain": [
       "<Figure size 640x480 with 1 Axes>"
      ]
     },
     "metadata": {},
     "output_type": "display_data"
    }
   ],
   "source": [
    "# График распределения\n",
    "plt.bar(x_values, probabilities, color='blue', alpha=0.7)\n",
    "plt.xlabel('Сумма очков (X)', fontsize=14, fontweight='bold', color='Black')\n",
    "plt.ylabel('Вероятность P(X)', fontsize=14, fontweight='bold', color='Black')\n",
    "plt.title('Закон распределения случайной величины X', fontsize=16, fontweight='bold', color='DarkRed')\n",
    "plt.xticks(x_values)\n",
    "plt.ylim(0, 0.2)\n",
    "plt.grid(axis='y')"
   ]
  },
  {
   "cell_type": "markdown",
   "metadata": {
    "id": "shgW4D83awjK"
   },
   "source": [
    "## Условные вероятности"
   ]
  },
  {
   "cell_type": "markdown",
   "metadata": {
    "id": "Fbu1RFZwWZrk"
   },
   "source": [
    "### Задача 9\n",
    "Из колоды (36 карт) вынимают последовательно без возвращения две карты. Найти вероятность того, что первой картой была шестерка, а второй — семерка. Найти условную вероятность того же события при условии, что обе карты бубновой масти.\n",
    "\n",
    "_Ответы: .0127, 0.0008_"
   ]
  },
  {
   "cell_type": "code",
   "execution_count": 40,
   "metadata": {},
   "outputs": [],
   "source": [
    "# Общее количество карт\n",
    "total_cards = 36"
   ]
  },
  {
   "cell_type": "code",
   "execution_count": 41,
   "metadata": {},
   "outputs": [],
   "source": [
    "# Вероятность того, что первой картой была шестерка, а второй — семерка\n",
    "# Вероятность первой карты\n",
    "P_first_six = 4 / total_cards  # 4 шестерки в колоде\n",
    "# Вероятность второй карты (при условии, что первая была шестерка)\n",
    "P_second_seven_given_first_six = 4 / (total_cards - 1)  # 4 семерки, одна карта уже убрана"
   ]
  },
  {
   "cell_type": "code",
   "execution_count": 42,
   "metadata": {},
   "outputs": [
    {
     "name": "stdout",
     "output_type": "stream",
     "text": [
      "Вероятность того, что первой картой была шестерка, а второй — семерка: 0.0127\n"
     ]
    }
   ],
   "source": [
    "# Общая вероятность\n",
    "P_first_six_and_second_seven = P_first_six * P_second_seven_given_first_six\n",
    "print(f'Вероятность того, что первой картой была шестерка, а второй — семерка: {P_first_six_and_second_seven:.4f}')"
   ]
  },
  {
   "cell_type": "code",
   "execution_count": 43,
   "metadata": {},
   "outputs": [],
   "source": [
    "# Условная вероятность\n",
    "# В колоде 4 шестерки и 4 семерки, всего 8 карт бубновой масти\n",
    "# Вероятность того, что обе карты бубновой масти\n",
    "P_both_diamonds = (4 / total_cards) * (3 / (total_cards - 1))  # 4 бубновые карты, затем 3 оставшиеся"
   ]
  },
  {
   "cell_type": "code",
   "execution_count": 44,
   "metadata": {},
   "outputs": [],
   "source": [
    "# Вероятность того, что первой картой была шестерка, а второй — семерка, при условии, что обе карты бубновой масти\n",
    "P_six_and_seven_given_both_diamonds = 1 / 6"
   ]
  },
  {
   "cell_type": "code",
   "execution_count": 45,
   "metadata": {
    "id": "037o56awW9-E"
   },
   "outputs": [
    {
     "name": "stdout",
     "output_type": "stream",
     "text": [
      "Условная вероятность того, что первой картой была шестерка, а второй — семерка, при условии, что обе карты бубновой масти: 17.5000\n"
     ]
    }
   ],
   "source": [
    "# Условная вероятность\n",
    "P_first_six_and_second_seven_given_both_diamonds = P_six_and_seven_given_both_diamonds / P_both_diamonds\n",
    "print(f'Условная вероятность того, что первой картой была шестерка, а второй — семерка, при условии, что обе карты бубновой масти: {P_first_six_and_second_seven_given_both_diamonds:.4f}')"
   ]
  },
  {
   "cell_type": "markdown",
   "metadata": {
    "id": "hNVxtaz5c57b"
   },
   "source": [
    "Предлагается также решить задачу: \n",
    "\n",
    "### Задача 10\n",
    "Из урны, содержащей два белых и три черных шара, последовательно извлекают два шара; вынутые шары не возвращаются. Если первый шар оказался черным, то перед вторым извлечением в урну добавляют белый шар. В противном случае состав оставшихся шаров не меняют. Найти вероятности событий:\n",
    "\n",
    "$A$ = {извлечены два белых шара},\n",
    "\n",
    "$B$ = {извлечены два черных шара}\n",
    "\n",
    "Указание. Пусть событие $C_1$ = {первый шар белый}, событие $C_2$ = {второй шар белый}. Тогда $A = C_1C_2$, $B = \\overline C_1 \\overline C_2$ \n",
    "\n",
    "_Ответы: 0.1, 0.24_"
   ]
  },
  {
   "cell_type": "code",
   "execution_count": 46,
   "metadata": {},
   "outputs": [],
   "source": [
    "# Исходные данные\n",
    "total_balls = 5  # 2 белых и 3 черных\n",
    "white_balls_initial = 2\n",
    "black_balls_initial = 3"
   ]
  },
  {
   "cell_type": "code",
   "execution_count": 47,
   "metadata": {},
   "outputs": [],
   "source": [
    "# Вероятность того, что первый шар белый\n",
    "P_C1 = white_balls_initial / total_balls"
   ]
  },
  {
   "cell_type": "code",
   "execution_count": 48,
   "metadata": {},
   "outputs": [],
   "source": [
    "# Вероятность того, что первый шар черный\n",
    "P_not_C1 = black_balls_initial / total_balls\n"
   ]
  },
  {
   "cell_type": "code",
   "execution_count": 49,
   "metadata": {},
   "outputs": [],
   "source": [
    "# Вероятность второго шара белого, если первый шар белый\n",
    "# 1 белый из 4 оставшихся\n",
    "P_C2_given_C1 = (white_balls_initial - 1) / (total_balls - 1)"
   ]
  },
  {
   "cell_type": "code",
   "execution_count": 50,
   "metadata": {},
   "outputs": [],
   "source": [
    "# Вероятность второго шара белого, если первый шар черный\n",
    "# 3 черных, 3 белых из 4 оставшихся\n",
    "P_C2_given_not_C1 = (white_balls_initial + 1) / (total_balls - 1)  "
   ]
  },
  {
   "cell_type": "code",
   "execution_count": 51,
   "metadata": {},
   "outputs": [],
   "source": [
    "# Вероятность события A\n",
    "P_A = P_C1 * P_C2_given_C1 + P_not_C1 * P_C2_given_not_C1"
   ]
  },
  {
   "cell_type": "code",
   "execution_count": 52,
   "metadata": {},
   "outputs": [],
   "source": [
    "# Вероятность того, что второй шар черный, если первый черный\n",
    "# 2 черных из 4 оставшихся\n",
    "P_not_C2_given_not_C1 = (black_balls_initial - 1) / (total_balls - 1)  "
   ]
  },
  {
   "cell_type": "code",
   "execution_count": 53,
   "metadata": {},
   "outputs": [],
   "source": [
    "# Вероятность события B\n",
    "P_B = P_not_C1 * P_not_C2_given_not_C1"
   ]
  },
  {
   "cell_type": "code",
   "execution_count": 54,
   "metadata": {
    "id": "WSLnhk2sdBt_"
   },
   "outputs": [
    {
     "name": "stdout",
     "output_type": "stream",
     "text": [
      "Вероятность события A (извлечены два белых шара): 0.5500\n",
      "Вероятность события B (извлечены два черных шара): 0.3000\n"
     ]
    }
   ],
   "source": [
    "# Вывод результатов\n",
    "print(f'Вероятность события A (извлечены два белых шара): {P_A:.4f}')\n",
    "print(f'Вероятность события B (извлечены два черных шара): {P_B:.4f}')"
   ]
  }
 ],
 "metadata": {
  "colab": {
   "collapsed_sections": [],
   "name": "Практика к занятию 11.ipynb",
   "provenance": []
  },
  "kernelspec": {
   "display_name": "Python 3 (ipykernel)",
   "language": "python",
   "name": "python3"
  },
  "language_info": {
   "codemirror_mode": {
    "name": "ipython",
    "version": 3
   },
   "file_extension": ".py",
   "mimetype": "text/x-python",
   "name": "python",
   "nbconvert_exporter": "python",
   "pygments_lexer": "ipython3",
   "version": "3.11.9"
  }
 },
 "nbformat": 4,
 "nbformat_minor": 1
}
